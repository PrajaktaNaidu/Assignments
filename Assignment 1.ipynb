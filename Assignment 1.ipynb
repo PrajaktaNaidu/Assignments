{
 "cells": [
  {
   "cell_type": "markdown",
   "id": "eb9ddbad",
   "metadata": {},
   "source": [
    "##### Write a Python program to find those numbers which are divisible by 7and multiple of 5, between 1500 and 2700 (both included)."
   ]
  },
  {
   "cell_type": "code",
   "execution_count": 1,
   "id": "5b59b7b7",
   "metadata": {},
   "outputs": [
    {
     "name": "stdout",
     "output_type": "stream",
     "text": [
      "[1505, 1540, 1575, 1610, 1645, 1680, 1715, 1750, 1785, 1820, 1855, 1890, 1925, 1960, 1995, 2030, 2065, 2100, 2135, 2170, 2205, 2240, 2275, 2310, 2345, 2380, 2415, 2450, 2485, 2520, 2555, 2590, 2625, 2660, 2695]\n"
     ]
    }
   ],
   "source": [
    "n = []\n",
    "for x in range(1500,2701):\n",
    "    if (x%7==0) & (x%5==0):\n",
    "        n.append(x)\n",
    "        \n",
    "print(n)"
   ]
  },
  {
   "cell_type": "markdown",
   "id": "bbfe2bd2",
   "metadata": {},
   "source": [
    "#### Python program to add two numbers"
   ]
  },
  {
   "cell_type": "code",
   "execution_count": 2,
   "id": "0a248fc0",
   "metadata": {},
   "outputs": [
    {
     "name": "stdout",
     "output_type": "stream",
     "text": [
      "Using traditional method 10\n"
     ]
    }
   ],
   "source": [
    "#traditional method\n",
    "n1 = 5\n",
    "n2 = 5\n",
    "n3 = n1 + n2\n",
    "print(\"Using traditional method\",n3)"
   ]
  },
  {
   "cell_type": "code",
   "execution_count": 4,
   "id": "5900e02e",
   "metadata": {},
   "outputs": [
    {
     "name": "stdout",
     "output_type": "stream",
     "text": [
      "Using function method 10\n"
     ]
    }
   ],
   "source": [
    "#using function\n",
    "def add(m1=5,m2=5):\n",
    "    m3=m1+m2\n",
    "    return m3\n",
    "print(\"Using function method\",add())"
   ]
  },
  {
   "cell_type": "code",
   "execution_count": 5,
   "id": "8455fb3c",
   "metadata": {},
   "outputs": [
    {
     "name": "stdout",
     "output_type": "stream",
     "text": [
      "Enter number1 :10\n",
      "Enter number2 :10\n",
      "Using user input method 20\n"
     ]
    }
   ],
   "source": [
    "#taking input from user\n",
    "s1 = int(input(\"Enter number1 :\"))\n",
    "s2 = int(input(\"Enter number2 :\"))\n",
    "s3=s1+s2\n",
    "print(\"Using user input method\",s3)"
   ]
  },
  {
   "cell_type": "markdown",
   "id": "8483ee28",
   "metadata": {},
   "source": [
    "##### Maximum of two numbers in Python"
   ]
  },
  {
   "cell_type": "code",
   "execution_count": 7,
   "id": "116390f9",
   "metadata": {},
   "outputs": [
    {
     "data": {
      "text/plain": [
       "10"
      ]
     },
     "execution_count": 7,
     "metadata": {},
     "output_type": "execute_result"
    }
   ],
   "source": [
    "x = max(5,10)\n",
    "x"
   ]
  },
  {
   "cell_type": "markdown",
   "id": "69c43ad8",
   "metadata": {},
   "source": [
    "##### Python Program for factorial of a number"
   ]
  },
  {
   "cell_type": "code",
   "execution_count": 14,
   "id": "a60bbcb1",
   "metadata": {},
   "outputs": [
    {
     "name": "stdout",
     "output_type": "stream",
     "text": [
      "1\n",
      "2\n",
      "3\n",
      "4\n",
      "5\n"
     ]
    }
   ],
   "source": [
    "x=5\n",
    "factorial=1\n",
    "for i in range(1,x+1):\n",
    "    factorial=factorial*i\n",
    "print(factorial)"
   ]
  },
  {
   "cell_type": "markdown",
   "id": "5571d1b5",
   "metadata": {},
   "source": [
    "##### Python Program for simple interest and compound Interest"
   ]
  },
  {
   "cell_type": "code",
   "execution_count": 20,
   "id": "d3a6ce05",
   "metadata": {},
   "outputs": [
    {
     "name": "stdout",
     "output_type": "stream",
     "text": [
      "Simple Interst is : 25000\n",
      "Compound Interst is : 1276.2815625000003\n"
     ]
    }
   ],
   "source": [
    "P = 1000\n",
    "R = 5\n",
    "T = 5\n",
    "simple_interest = P*R*T\n",
    "print(\"Simple Interst is :\",simple_interest)\n",
    "\n",
    "compound_interest = P*(pow((1+R/100),T))\n",
    "print(\"Compound Interst is :\",compound_interest)"
   ]
  },
  {
   "cell_type": "markdown",
   "id": "77233f4c",
   "metadata": {},
   "source": [
    "##### Python Program to check Armstrong Number"
   ]
  },
  {
   "cell_type": "code",
   "execution_count": 38,
   "id": "dc530522",
   "metadata": {},
   "outputs": [
    {
     "name": "stdout",
     "output_type": "stream",
     "text": [
      "Enter number :2\n",
      "Not a Armstrong Number\n"
     ]
    }
   ],
   "source": [
    "num=int(input(\"Enter number :\"))\n",
    "tot = 0\n",
    "temp=num\n",
    "while temp>0:\n",
    "    digit=temp%10\n",
    "    tot+=digit**3\n",
    "    temp//=10\n",
    "    \n",
    "if tot==num:\n",
    "    print(\"Armstrong Number\")\n",
    "else:\n",
    "    print(\"Not a Armstrong Number\")"
   ]
  },
  {
   "cell_type": "markdown",
   "id": "6c53a522",
   "metadata": {},
   "source": [
    "##### Python Program for Program to find area of a circle"
   ]
  },
  {
   "cell_type": "code",
   "execution_count": 39,
   "id": "80f72eb9",
   "metadata": {},
   "outputs": [
    {
     "name": "stdout",
     "output_type": "stream",
     "text": [
      "Area of circle 12.56\n"
     ]
    }
   ],
   "source": [
    "pi=3.14\n",
    "r=2\n",
    "A=pi*r*r\n",
    "print(\"Area of circle\", A)"
   ]
  },
  {
   "cell_type": "markdown",
   "id": "184a464f",
   "metadata": {},
   "source": [
    "##### Python program to print all Prime numbers in an Interval"
   ]
  },
  {
   "cell_type": "code",
   "execution_count": 53,
   "id": "1e299f41",
   "metadata": {},
   "outputs": [
    {
     "name": "stdout",
     "output_type": "stream",
     "text": [
      "2\n",
      "3\n",
      "5\n"
     ]
    }
   ],
   "source": [
    "lower = 2\n",
    "upper = 5\n",
    "\n",
    "for num in range(lower, upper + 1):\n",
    "    \n",
    "    if num > 1:\n",
    "        \n",
    "        for i in range(2,num):\n",
    "            if (num % i) ==0:\n",
    "                break\n",
    "        else:\n",
    "                print(num)\n",
    "        "
   ]
  }
 ],
 "metadata": {
  "kernelspec": {
   "display_name": "Python 3 (ipykernel)",
   "language": "python",
   "name": "python3"
  },
  "language_info": {
   "codemirror_mode": {
    "name": "ipython",
    "version": 3
   },
   "file_extension": ".py",
   "mimetype": "text/x-python",
   "name": "python",
   "nbconvert_exporter": "python",
   "pygments_lexer": "ipython3",
   "version": "3.9.7"
  }
 },
 "nbformat": 4,
 "nbformat_minor": 5
}
